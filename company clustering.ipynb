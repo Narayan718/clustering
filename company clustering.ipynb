{
 "cells": [
  {
   "cell_type": "markdown",
   "metadata": {},
   "source": [
    "# **Company Classification**"
   ]
  },
  {
   "cell_type": "markdown",
   "metadata": {},
   "source": [
    "**Classify businesses and companies across a standard taxonomy.**\n",
    "\n",
    "**This dataset comes with pre-classified companies along with data from the website.**\n",
    "\n",
    "**The main objective is to cluster companies based on their description on the website.**"
   ]
  },
  {
   "cell_type": "markdown",
   "metadata": {},
   "source": [
    "**Data Description -**\n",
    "\n",
    "**1. website: The website of the company/business**\n",
    "\n",
    "**2. company_name: The company/business name**\n",
    "\n",
    "**3. homepage_text : Visible homepage text**\n",
    "\n",
    "**4. h1: The heading 1 tags from the html of the home page**\n",
    "\n",
    "**5. h2: The heading 2 tags from the html of the home page**\n",
    "\n",
    "**6. h3: The heading 3 tags from the html of the home page**\n",
    "\n",
    "**7. navlinktext: The visible titles of navigation links on the homepage (Ex: Home, Services,\n",
    "Product, About Us, Contact Us)**\n",
    "\n",
    "**8. metakeywords: The meta keywords in the header of the page html for SEO (More info:\n",
    "https://www.w3schools.com/tags/tag_meta.asp)**\n",
    "\n",
    "**9. metadescription: The meta description in the header of the page html for SEO (More info:\n",
    "https://www.w3schools.com/tags/tag_meta.asp)**"
   ]
  },
  {
   "cell_type": "code",
   "execution_count": 1,
   "metadata": {},
   "outputs": [],
   "source": [
    "import string\n",
    "import numpy as np\n",
    "import pandas as pd\n",
    "import seaborn as sns\n",
    "import warnings\n",
    "warnings.filterwarnings('ignore')\n",
    "import matplotlib.pyplot as plt\n",
    "import missingno as msno\n",
    "from nltk.corpus import stopwords"
   ]
  },
  {
   "cell_type": "code",
   "execution_count": 2,
   "metadata": {},
   "outputs": [
    {
     "data": {
      "text/html": [
       "<div>\n",
       "<style scoped>\n",
       "    .dataframe tbody tr th:only-of-type {\n",
       "        vertical-align: middle;\n",
       "    }\n",
       "\n",
       "    .dataframe tbody tr th {\n",
       "        vertical-align: top;\n",
       "    }\n",
       "\n",
       "    .dataframe thead th {\n",
       "        text-align: right;\n",
       "    }\n",
       "</style>\n",
       "<table border=\"1\" class=\"dataframe\">\n",
       "  <thead>\n",
       "    <tr style=\"text-align: right;\">\n",
       "      <th></th>\n",
       "      <th>website</th>\n",
       "      <th>company_name</th>\n",
       "      <th>homepage_text</th>\n",
       "      <th>h1</th>\n",
       "      <th>h2</th>\n",
       "      <th>h3</th>\n",
       "      <th>nav_link_text</th>\n",
       "      <th>meta_keywords</th>\n",
       "      <th>meta_description</th>\n",
       "    </tr>\n",
       "  </thead>\n",
       "  <tbody>\n",
       "    <tr>\n",
       "      <th>0</th>\n",
       "      <td>bipelectric.com</td>\n",
       "      <td>bip dipietro electric inc</td>\n",
       "      <td>Electrici...</td>\n",
       "      <td>NaN</td>\n",
       "      <td>NaN</td>\n",
       "      <td>NaN</td>\n",
       "      <td>NaN</td>\n",
       "      <td>electricians vero beach, vero beach electrical...</td>\n",
       "      <td>Providing quality, reliable full service resid...</td>\n",
       "    </tr>\n",
       "    <tr>\n",
       "      <th>1</th>\n",
       "      <td>eliasmedical.com</td>\n",
       "      <td>elias medical</td>\n",
       "      <td>site map | en español    Elias Medical   h...</td>\n",
       "      <td>Offering Bakersfield family medical care from ...</td>\n",
       "      <td>Welcome to ELIAS MEDICAL#sep#Family Medical Pr...</td>\n",
       "      <td>Get To Know Elias Medical#sep#Family Medical P...</td>\n",
       "      <td>NaN</td>\n",
       "      <td>Elias Medical bakersfield ca family doctor med...</td>\n",
       "      <td>For the best value in Bakersfield skin care tr...</td>\n",
       "    </tr>\n",
       "    <tr>\n",
       "      <th>2</th>\n",
       "      <td>koopsoverheaddoors.com</td>\n",
       "      <td>koops overhead doors</td>\n",
       "      <td>Home  About Us  Garage Door Repair &amp; Servi...</td>\n",
       "      <td>NaN</td>\n",
       "      <td>Customer Reviews#sep#Welcome to Koops Overhead...</td>\n",
       "      <td>NaN</td>\n",
       "      <td>NaN</td>\n",
       "      <td>Koops Overhead Doors, Albany Garage Doors, Tro...</td>\n",
       "      <td>Koops Overhead Doors specializes in the sales,...</td>\n",
       "    </tr>\n",
       "    <tr>\n",
       "      <th>3</th>\n",
       "      <td>midtowneyes.com</td>\n",
       "      <td>midtown eyecare</td>\n",
       "      <td>918-599-0202        Type Size...</td>\n",
       "      <td>NaN</td>\n",
       "      <td>Welcome to our practice!</td>\n",
       "      <td>NaN</td>\n",
       "      <td>NaN</td>\n",
       "      <td>NaN</td>\n",
       "      <td>We would like to welcome you to Midtown Eyecar...</td>\n",
       "    </tr>\n",
       "    <tr>\n",
       "      <th>4</th>\n",
       "      <td>reprosecurity.co.uk</td>\n",
       "      <td>repro security ltd</td>\n",
       "      <td>Simply fill out our form below...</td>\n",
       "      <td>NaN</td>\n",
       "      <td>Welcome to REPRO SECURITY Ltd</td>\n",
       "      <td>NaN</td>\n",
       "      <td>NaN</td>\n",
       "      <td>NaN</td>\n",
       "      <td>Repro Security provide a range of tailor made ...</td>\n",
       "    </tr>\n",
       "  </tbody>\n",
       "</table>\n",
       "</div>"
      ],
      "text/plain": [
       "                  website               company_name  \\\n",
       "0         bipelectric.com  bip dipietro electric inc   \n",
       "1        eliasmedical.com              elias medical   \n",
       "2  koopsoverheaddoors.com       koops overhead doors   \n",
       "3         midtowneyes.com            midtown eyecare   \n",
       "4     reprosecurity.co.uk         repro security ltd   \n",
       "\n",
       "                                       homepage_text  \\\n",
       "0                                       Electrici...   \n",
       "1      site map | en español    Elias Medical   h...   \n",
       "2      Home  About Us  Garage Door Repair & Servi...   \n",
       "3                   918-599-0202        Type Size...   \n",
       "4                  Simply fill out our form below...   \n",
       "\n",
       "                                                  h1  \\\n",
       "0                                                NaN   \n",
       "1  Offering Bakersfield family medical care from ...   \n",
       "2                                                NaN   \n",
       "3                                                NaN   \n",
       "4                                                NaN   \n",
       "\n",
       "                                                  h2  \\\n",
       "0                                                NaN   \n",
       "1  Welcome to ELIAS MEDICAL#sep#Family Medical Pr...   \n",
       "2  Customer Reviews#sep#Welcome to Koops Overhead...   \n",
       "3                           Welcome to our practice!   \n",
       "4                      Welcome to REPRO SECURITY Ltd   \n",
       "\n",
       "                                                  h3 nav_link_text  \\\n",
       "0                                                NaN           NaN   \n",
       "1  Get To Know Elias Medical#sep#Family Medical P...           NaN   \n",
       "2                                                NaN           NaN   \n",
       "3                                                NaN           NaN   \n",
       "4                                                NaN           NaN   \n",
       "\n",
       "                                       meta_keywords  \\\n",
       "0  electricians vero beach, vero beach electrical...   \n",
       "1  Elias Medical bakersfield ca family doctor med...   \n",
       "2  Koops Overhead Doors, Albany Garage Doors, Tro...   \n",
       "3                                                NaN   \n",
       "4                                                NaN   \n",
       "\n",
       "                                    meta_description  \n",
       "0  Providing quality, reliable full service resid...  \n",
       "1  For the best value in Bakersfield skin care tr...  \n",
       "2  Koops Overhead Doors specializes in the sales,...  \n",
       "3  We would like to welcome you to Midtown Eyecar...  \n",
       "4  Repro Security provide a range of tailor made ...  "
      ]
     },
     "execution_count": 2,
     "metadata": {},
     "output_type": "execute_result"
    }
   ],
   "source": [
    "company_df = pd.read_csv('data_company_classification.csv')\n",
    "company_df.head()"
   ]
  },
  {
   "cell_type": "code",
   "execution_count": 3,
   "metadata": {},
   "outputs": [
    {
     "data": {
      "text/plain": [
       "(73974, 9)"
      ]
     },
     "execution_count": 3,
     "metadata": {},
     "output_type": "execute_result"
    }
   ],
   "source": [
    "company_df.shape"
   ]
  },
  {
   "cell_type": "code",
   "execution_count": 4,
   "metadata": {},
   "outputs": [
    {
     "name": "stdout",
     "output_type": "stream",
     "text": [
      "<class 'pandas.core.frame.DataFrame'>\n",
      "RangeIndex: 73974 entries, 0 to 73973\n",
      "Data columns (total 9 columns):\n",
      " #   Column            Non-Null Count  Dtype \n",
      "---  ------            --------------  ----- \n",
      " 0   website           73974 non-null  object\n",
      " 1   company_name      73974 non-null  object\n",
      " 2   homepage_text     73305 non-null  object\n",
      " 3   h1                46653 non-null  object\n",
      " 4   h2                53212 non-null  object\n",
      " 5   h3                44659 non-null  object\n",
      " 6   nav_link_text     48050 non-null  object\n",
      " 7   meta_keywords     23672 non-null  object\n",
      " 8   meta_description  66886 non-null  object\n",
      "dtypes: object(9)\n",
      "memory usage: 5.1+ MB\n"
     ]
    }
   ],
   "source": [
    "company_df.info()"
   ]
  },
  {
   "cell_type": "code",
   "execution_count": 5,
   "metadata": {},
   "outputs": [
    {
     "data": {
      "image/png": "[encoded data removed]",
      "text/plain": [
       "<Figure size 1800x720 with 3 Axes>"
      ]
     },
     "metadata": {
      "needs_background": "light"
     },
     "output_type": "display_data"
    }
   ],
   "source": [
    "msno.bar(company_df, color='k')\n",
    "plt.show()"
   ]
  },
  {
   "cell_type": "code",
   "execution_count": 6,
   "metadata": {},
   "outputs": [
    {
     "data": {
      "text/plain": [
       "website             73803\n",
       "company_name        73935\n",
       "homepage_text       71739\n",
       "h1                  44133\n",
       "h2                  50732\n",
       "h3                  42130\n",
       "nav_link_text       46486\n",
       "meta_keywords       23076\n",
       "meta_description    65617\n",
       "dtype: int64"
      ]
     },
     "execution_count": 6,
     "metadata": {},
     "output_type": "execute_result"
    }
   ],
   "source": [
    "company_df.nunique()"
   ]
  },
  {
   "cell_type": "code",
   "execution_count": 7,
   "metadata": {},
   "outputs": [],
   "source": [
    "company_df['description'] = company_df['h1'].fillna('')+' '+company_df['h2'].fillna('')+' '+company_df['h3'].fillna('')"
   ]
  },
  {
   "cell_type": "code",
   "execution_count": 8,
   "metadata": {},
   "outputs": [],
   "source": [
    "company_df.drop(['h1', 'h2', 'h3'], axis=1, inplace=True)"
   ]
  },
  {
   "cell_type": "code",
   "execution_count": 9,
   "metadata": {},
   "outputs": [
    {
     "data": {
      "text/html": [
       "<div>\n",
       "<style scoped>\n",
       "    .dataframe tbody tr th:only-of-type {\n",
       "        vertical-align: middle;\n",
       "    }\n",
       "\n",
       "    .dataframe tbody tr th {\n",
       "        vertical-align: top;\n",
       "    }\n",
       "\n",
       "    .dataframe thead th {\n",
       "        text-align: right;\n",
       "    }\n",
       "</style>\n",
       "<table border=\"1\" class=\"dataframe\">\n",
       "  <thead>\n",
       "    <tr style=\"text-align: right;\">\n",
       "      <th></th>\n",
       "      <th>website</th>\n",
       "      <th>company_name</th>\n",
       "      <th>homepage_text</th>\n",
       "      <th>nav_link_text</th>\n",
       "      <th>meta_keywords</th>\n",
       "      <th>meta_description</th>\n",
       "      <th>description</th>\n",
       "    </tr>\n",
       "  </thead>\n",
       "  <tbody>\n",
       "    <tr>\n",
       "      <th>0</th>\n",
       "      <td>bipelectric.com</td>\n",
       "      <td>bip dipietro electric inc</td>\n",
       "      <td>Electrici...</td>\n",
       "      <td>NaN</td>\n",
       "      <td>electricians vero beach, vero beach electrical...</td>\n",
       "      <td>Providing quality, reliable full service resid...</td>\n",
       "      <td></td>\n",
       "    </tr>\n",
       "    <tr>\n",
       "      <th>1</th>\n",
       "      <td>eliasmedical.com</td>\n",
       "      <td>elias medical</td>\n",
       "      <td>site map | en español    Elias Medical   h...</td>\n",
       "      <td>NaN</td>\n",
       "      <td>Elias Medical bakersfield ca family doctor med...</td>\n",
       "      <td>For the best value in Bakersfield skin care tr...</td>\n",
       "      <td>Offering Bakersfield family medical care from ...</td>\n",
       "    </tr>\n",
       "    <tr>\n",
       "      <th>2</th>\n",
       "      <td>koopsoverheaddoors.com</td>\n",
       "      <td>koops overhead doors</td>\n",
       "      <td>Home  About Us  Garage Door Repair &amp; Servi...</td>\n",
       "      <td>NaN</td>\n",
       "      <td>Koops Overhead Doors, Albany Garage Doors, Tro...</td>\n",
       "      <td>Koops Overhead Doors specializes in the sales,...</td>\n",
       "      <td>Customer Reviews#sep#Welcome to Koops Overhea...</td>\n",
       "    </tr>\n",
       "    <tr>\n",
       "      <th>3</th>\n",
       "      <td>midtowneyes.com</td>\n",
       "      <td>midtown eyecare</td>\n",
       "      <td>918-599-0202        Type Size...</td>\n",
       "      <td>NaN</td>\n",
       "      <td>NaN</td>\n",
       "      <td>We would like to welcome you to Midtown Eyecar...</td>\n",
       "      <td>Welcome to our practice!</td>\n",
       "    </tr>\n",
       "    <tr>\n",
       "      <th>4</th>\n",
       "      <td>reprosecurity.co.uk</td>\n",
       "      <td>repro security ltd</td>\n",
       "      <td>Simply fill out our form below...</td>\n",
       "      <td>NaN</td>\n",
       "      <td>NaN</td>\n",
       "      <td>Repro Security provide a range of tailor made ...</td>\n",
       "      <td>Welcome to REPRO SECURITY Ltd</td>\n",
       "    </tr>\n",
       "  </tbody>\n",
       "</table>\n",
       "</div>"
      ],
      "text/plain": [
       "                  website               company_name  \\\n",
       "0         bipelectric.com  bip dipietro electric inc   \n",
       "1        eliasmedical.com              elias medical   \n",
       "2  koopsoverheaddoors.com       koops overhead doors   \n",
       "3         midtowneyes.com            midtown eyecare   \n",
       "4     reprosecurity.co.uk         repro security ltd   \n",
       "\n",
       "                                       homepage_text nav_link_text  \\\n",
       "0                                       Electrici...           NaN   \n",
       "1      site map | en español    Elias Medical   h...           NaN   \n",
       "2      Home  About Us  Garage Door Repair & Servi...           NaN   \n",
       "3                   918-599-0202        Type Size...           NaN   \n",
       "4                  Simply fill out our form below...           NaN   \n",
       "\n",
       "                                       meta_keywords  \\\n",
       "0  electricians vero beach, vero beach electrical...   \n",
       "1  Elias Medical bakersfield ca family doctor med...   \n",
       "2  Koops Overhead Doors, Albany Garage Doors, Tro...   \n",
       "3                                                NaN   \n",
       "4                                                NaN   \n",
       "\n",
       "                                    meta_description  \\\n",
       "0  Providing quality, reliable full service resid...   \n",
       "1  For the best value in Bakersfield skin care tr...   \n",
       "2  Koops Overhead Doors specializes in the sales,...   \n",
       "3  We would like to welcome you to Midtown Eyecar...   \n",
       "4  Repro Security provide a range of tailor made ...   \n",
       "\n",
       "                                         description  \n",
       "0                                                     \n",
       "1  Offering Bakersfield family medical care from ...  \n",
       "2   Customer Reviews#sep#Welcome to Koops Overhea...  \n",
       "3                          Welcome to our practice!   \n",
       "4                     Welcome to REPRO SECURITY Ltd   "
      ]
     },
     "execution_count": 9,
     "metadata": {},
     "output_type": "execute_result"
    }
   ],
   "source": [
    "company_df.head()"
   ]
  },
  {
   "cell_type": "code",
   "execution_count": 14,
   "metadata": {},
   "outputs": [
    {
     "data": {
      "text/plain": [
       "homepage_text         669\n",
       "nav_link_text       25924\n",
       "meta_keywords       50302\n",
       "meta_description     7088\n",
       "dtype: int64"
      ]
     },
     "execution_count": 14,
     "metadata": {},
     "output_type": "execute_result"
    }
   ],
   "source": [
    "company_df[['homepage_text', 'nav_link_text','meta_keywords', 'meta_description']].isnull().sum()"
   ]
  },
  {
   "cell_type": "code",
   "execution_count": 15,
   "metadata": {},
   "outputs": [
    {
     "data": {
      "text/plain": [
       "1    44319\n",
       "2    14671\n",
       "0    11660\n",
       "3     2974\n",
       "4      350\n",
       "dtype: int64"
      ]
     },
     "execution_count": 15,
     "metadata": {},
     "output_type": "execute_result"
    }
   ],
   "source": [
    "company_df[['homepage_text', 'nav_link_text','meta_keywords', 'meta_description']].isnull().sum(axis=1).value_counts()"
   ]
  },
  {
   "cell_type": "code",
   "execution_count": 16,
   "metadata": {},
   "outputs": [],
   "source": [
    "company_df['null_count'] = company_df[['homepage_text', 'nav_link_text','meta_keywords',\n",
    "                                       'meta_description']].isnull().sum(axis=1)"
   ]
  },
  {
   "cell_type": "code",
   "execution_count": 23,
   "metadata": {},
   "outputs": [
    {
     "data": {
      "text/html": [
       "<div>\n",
       "<style scoped>\n",
       "    .dataframe tbody tr th:only-of-type {\n",
       "        vertical-align: middle;\n",
       "    }\n",
       "\n",
       "    .dataframe tbody tr th {\n",
       "        vertical-align: top;\n",
       "    }\n",
       "\n",
       "    .dataframe thead th {\n",
       "        text-align: right;\n",
       "    }\n",
       "</style>\n",
       "<table border=\"1\" class=\"dataframe\">\n",
       "  <thead>\n",
       "    <tr style=\"text-align: right;\">\n",
       "      <th></th>\n",
       "      <th>website</th>\n",
       "      <th>company_name</th>\n",
       "      <th>homepage_text</th>\n",
       "      <th>nav_link_text</th>\n",
       "      <th>meta_keywords</th>\n",
       "      <th>meta_description</th>\n",
       "      <th>description</th>\n",
       "      <th>text</th>\n",
       "    </tr>\n",
       "  </thead>\n",
       "  <tbody>\n",
       "    <tr>\n",
       "      <th>0</th>\n",
       "      <td>bipelectric.com</td>\n",
       "      <td>bip dipietro electric inc</td>\n",
       "      <td>Electrici...</td>\n",
       "      <td></td>\n",
       "      <td>electricians vero beach, vero beach electrical...</td>\n",
       "      <td>Providing quality, reliable full service resid...</td>\n",
       "      <td></td>\n",
       "      <td>Electrici...</td>\n",
       "    </tr>\n",
       "    <tr>\n",
       "      <th>1</th>\n",
       "      <td>eliasmedical.com</td>\n",
       "      <td>elias medical</td>\n",
       "      <td>site map | en español    Elias Medical   h...</td>\n",
       "      <td></td>\n",
       "      <td>Elias Medical bakersfield ca family doctor med...</td>\n",
       "      <td>For the best value in Bakersfield skin care tr...</td>\n",
       "      <td>Offering Bakersfield family medical care from ...</td>\n",
       "      <td>site map | en español    Elias Medical   h...</td>\n",
       "    </tr>\n",
       "    <tr>\n",
       "      <th>2</th>\n",
       "      <td>koopsoverheaddoors.com</td>\n",
       "      <td>koops overhead doors</td>\n",
       "      <td>Home  About Us  Garage Door Repair &amp; Servi...</td>\n",
       "      <td></td>\n",
       "      <td>Koops Overhead Doors, Albany Garage Doors, Tro...</td>\n",
       "      <td>Koops Overhead Doors specializes in the sales,...</td>\n",
       "      <td>Customer Reviews#sep#Welcome to Koops Overhea...</td>\n",
       "      <td>Home  About Us  Garage Door Repair &amp; Servi...</td>\n",
       "    </tr>\n",
       "    <tr>\n",
       "      <th>3</th>\n",
       "      <td>midtowneyes.com</td>\n",
       "      <td>midtown eyecare</td>\n",
       "      <td>918-599-0202        Type Size...</td>\n",
       "      <td></td>\n",
       "      <td></td>\n",
       "      <td>We would like to welcome you to Midtown Eyecar...</td>\n",
       "      <td>Welcome to our practice!</td>\n",
       "      <td>918-599-0202        Type Size...</td>\n",
       "    </tr>\n",
       "    <tr>\n",
       "      <th>4</th>\n",
       "      <td>reprosecurity.co.uk</td>\n",
       "      <td>repro security ltd</td>\n",
       "      <td>Simply fill out our form below...</td>\n",
       "      <td></td>\n",
       "      <td></td>\n",
       "      <td>Repro Security provide a range of tailor made ...</td>\n",
       "      <td>Welcome to REPRO SECURITY Ltd</td>\n",
       "      <td>Simply fill out our form below...</td>\n",
       "    </tr>\n",
       "  </tbody>\n",
       "</table>\n",
       "</div>"
      ],
      "text/plain": [
       "                  website               company_name  \\\n",
       "0         bipelectric.com  bip dipietro electric inc   \n",
       "1        eliasmedical.com              elias medical   \n",
       "2  koopsoverheaddoors.com       koops overhead doors   \n",
       "3         midtowneyes.com            midtown eyecare   \n",
       "4     reprosecurity.co.uk         repro security ltd   \n",
       "\n",
       "                                       homepage_text nav_link_text  \\\n",
       "0                                       Electrici...                 \n",
       "1      site map | en español    Elias Medical   h...                 \n",
       "2      Home  About Us  Garage Door Repair & Servi...                 \n",
       "3                   918-599-0202        Type Size...                 \n",
       "4                  Simply fill out our form below...                 \n",
       "\n",
       "                                       meta_keywords  \\\n",
       "0  electricians vero beach, vero beach electrical...   \n",
       "1  Elias Medical bakersfield ca family doctor med...   \n",
       "2  Koops Overhead Doors, Albany Garage Doors, Tro...   \n",
       "3                                                      \n",
       "4                                                      \n",
       "\n",
       "                                    meta_description  \\\n",
       "0  Providing quality, reliable full service resid...   \n",
       "1  For the best value in Bakersfield skin care tr...   \n",
       "2  Koops Overhead Doors specializes in the sales,...   \n",
       "3  We would like to welcome you to Midtown Eyecar...   \n",
       "4  Repro Security provide a range of tailor made ...   \n",
       "\n",
       "                                         description  \\\n",
       "0                                                      \n",
       "1  Offering Bakersfield family medical care from ...   \n",
       "2   Customer Reviews#sep#Welcome to Koops Overhea...   \n",
       "3                          Welcome to our practice!    \n",
       "4                     Welcome to REPRO SECURITY Ltd    \n",
       "\n",
       "                                                text  \n",
       "0                                       Electrici...  \n",
       "1      site map | en español    Elias Medical   h...  \n",
       "2      Home  About Us  Garage Door Repair & Servi...  \n",
       "3                   918-599-0202        Type Size...  \n",
       "4                  Simply fill out our form below...  "
      ]
     },
     "execution_count": 23,
     "metadata": {},
     "output_type": "execute_result"
    }
   ],
   "source": [
    "company_df.head()"
   ]
  },
  {
   "cell_type": "code",
   "execution_count": 18,
   "metadata": {},
   "outputs": [],
   "source": [
    "company_df = company_df[company_df['null_count']<3]\n",
    "\n",
    "company_df.reset_index(inplace=True, drop=True)"
   ]
  },
  {
   "cell_type": "code",
   "execution_count": 19,
   "metadata": {},
   "outputs": [],
   "source": [
    "company_df.drop('null_count', axis=1, inplace=True)"
   ]
  },
  {
   "cell_type": "code",
   "execution_count": 20,
   "metadata": {},
   "outputs": [],
   "source": [
    "company_df.fillna('', inplace=True)"
   ]
  },
  {
   "cell_type": "code",
   "execution_count": 21,
   "metadata": {},
   "outputs": [],
   "source": [
    "company_df['text'] = (company_df['homepage_text'] + ' ' + company_df['nav_link_text'] + ' ' \n",
    "                      + company_df['meta_keywords'] + ' ' + company_df['meta_description'] \n",
    "                      + ' ' + company_df['description'])"
   ]
  },
  {
   "cell_type": "code",
   "execution_count": 22,
   "metadata": {},
   "outputs": [
    {
     "data": {
      "image/png": "[encoded data removed]",
      "text/plain": [
       "<Figure size 864x504 with 2 Axes>"
      ]
     },
     "metadata": {
      "needs_background": "light"
     },
     "output_type": "display_data"
    }
   ],
   "source": [
    "plt.figure(figsize=(12, 7))\n",
    "sns.heatmap(company_df.isnull(), yticklabels=False)\n",
    "plt.title('Visualization of null values', size=16)\n",
    "plt.xlabel('Features', size=14)\n",
    "plt.show()"
   ]
  },
  {
   "cell_type": "code",
   "execution_count": null,
   "metadata": {},
   "outputs": [],
   "source": []
  }
 ],
 "metadata": {
  "kernelspec": {
   "display_name": "Python 3",
   "language": "python",
   "name": "python3"
  },
  "language_info": {
   "codemirror_mode": {
    "name": "ipython",
    "version": 3
   },
   "file_extension": ".py",
   "mimetype": "text/x-python",
   "name": "python",
   "nbconvert_exporter": "python",
   "pygments_lexer": "ipython3",
   "version": "3.8.5"
  }
 },
 "nbformat": 4,
 "nbformat_minor": 4
}
